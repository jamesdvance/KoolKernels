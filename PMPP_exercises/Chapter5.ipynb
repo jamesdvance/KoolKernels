{
 "cells": [
  {
   "cell_type": "markdown",
   "metadata": {},
   "source": [
    "## Chapter 5"
   ]
  },
  {
   "cell_type": "markdown",
   "metadata": {},
   "source": [
    "1. <u>Consider matrix addition. Can one use shared memory to reduce the global memory bandwith consumption? hint: Analyze the elements that are accessed by each thread and see whether there is any commonality between threads.</u>\n",
    "\n",
    "> Since each thread in matrix addition operates on non-overlapping values, there is not an opportunity to use shared memory to reduce global memory consumption."
   ]
  },
  {
   "cell_type": "markdown",
   "metadata": {},
   "source": []
  }
 ],
 "metadata": {
  "language_info": {
   "name": "python"
  }
 },
 "nbformat": 4,
 "nbformat_minor": 2
}
