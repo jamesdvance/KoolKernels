{
 "cells": [
  {
   "cell_type": "markdown",
   "metadata": {},
   "source": [
    "1. In this chapter we implemented a matrix multiplication kernel that has each thread produce one output matrix element. In this question, you will implement different matrix-matrix multiplication kernels and compare them.\n",
    "<br/> \n",
    "    a. Write a kernel that has each thread produce one output matrix row. Fill inthe execution configuration parameters for the design "
   ]
  },
  {
   "cell_type": "markdown",
   "metadata": {},
   "source": [
    "#### Answer Thoughts\n",
    "\n",
    "Each thread is going to produce a row. A row of the output comes from all of the columns of matrix A multiplied by one row of matrix B. "
   ]
  },
  {
   "cell_type": "code",
   "execution_count": 11,
   "metadata": {},
   "outputs": [
    {
     "ename": "ValueError",
     "evalue": "operands could not be broadcast together with shapes (1000,4) (3,1000) ",
     "output_type": "error",
     "traceback": [
      "\u001b[0;31m---------------------------------------------------------------------------\u001b[0m",
      "\u001b[0;31mValueError\u001b[0m                                Traceback (most recent call last)",
      "Cell \u001b[0;32mIn[11], line 31\u001b[0m\n\u001b[1;32m     29\u001b[0m A \u001b[38;5;241m=\u001b[39m np\u001b[38;5;241m.\u001b[39mrandom\u001b[38;5;241m.\u001b[39mrandn(\u001b[38;5;241m1000\u001b[39m, \u001b[38;5;241m4\u001b[39m)\n\u001b[1;32m     30\u001b[0m B \u001b[38;5;241m=\u001b[39m np\u001b[38;5;241m.\u001b[39mrandom\u001b[38;5;241m.\u001b[39mrandn(\u001b[38;5;241m3\u001b[39m, \u001b[38;5;241m1000\u001b[39m)\n\u001b[0;32m---> 31\u001b[0m C \u001b[38;5;241m=\u001b[39m \u001b[43mnp\u001b[49m\u001b[38;5;241;43m.\u001b[39;49m\u001b[43mmultiply\u001b[49m\u001b[43m(\u001b[49m\u001b[43mA\u001b[49m\u001b[43m,\u001b[49m\u001b[43m \u001b[49m\u001b[43mB\u001b[49m\u001b[43m)\u001b[49m\n",
      "\u001b[0;31mValueError\u001b[0m: operands could not be broadcast together with shapes (1000,4) (3,1000) "
     ]
    }
   ],
   "source": [
    "from torch.utils.cpp_extension import load_inline\n",
    "import numpy as np\n",
    "import time\n",
    "\n",
    "kernel = \"\"\"\n",
    "\n",
    "\n",
    "    __global__ void row_major_cu(float* A, float* B, float* P, int A_cols, int A_rows, int B_cols, int B_rows){\n",
    "\n",
    "        int row = blockIdx.y * blockDim.y + threadIdx.y;\n",
    "        int col = blockIdx.x * blockDim.x + threadIdx.x;\n",
    "\n",
    "        if(( row < A_rows ) && (col <  B_cols)){\n",
    "        \n",
    "            for(int j = 0; i < A_rows){\n",
    "                float multSum = 0.0f;\n",
    "                for(int i = 0; i< A_cols; i++){\n",
    "                    multSum += A[row*Width + i] * B[i*B_rows+col];\n",
    "                }\n",
    "            }\n",
    "\n",
    "        }\n",
    "\n",
    "        \n",
    "        }\n",
    "    }\n",
    "\n",
    "\n",
    "\"\"\"\n",
    "\n",
    "# Pure Python\n",
    "A = np.random.randn(4, 1000)\n",
    "B = np.random.randn(1000, 3)\n",
    "time.start()\n",
    "AB = np.dot(A, B)"
   ]
  },
  {
   "cell_type": "code",
   "execution_count": 14,
   "metadata": {},
   "outputs": [],
   "source": [
    "A = np.random.randn(4, 1000)\n",
    "B = np.random.randn(1000, 3)\n",
    "AB = np.dot(A, B)"
   ]
  },
  {
   "cell_type": "code",
   "execution_count": 15,
   "metadata": {},
   "outputs": [
    {
     "data": {
      "text/plain": [
       "array([[ 10.27189272,  38.6341131 , -36.83379399],\n",
       "       [ 25.8079534 , -17.80821805, -76.70157969],\n",
       "       [ 10.88381806,   4.85693047, -23.02448774],\n",
       "       [  5.63800474, -37.97259232,  25.14557188]])"
      ]
     },
     "execution_count": 15,
     "metadata": {},
     "output_type": "execute_result"
    }
   ],
   "source": [
    "AB"
   ]
  },
  {
   "cell_type": "code",
   "execution_count": null,
   "metadata": {},
   "outputs": [],
   "source": [
    "import "
   ]
  },
  {
   "cell_type": "markdown",
   "metadata": {},
   "source": []
  }
 ],
 "metadata": {
  "kernelspec": {
   "display_name": "torch_cv_env",
   "language": "python",
   "name": "python3"
  },
  "language_info": {
   "codemirror_mode": {
    "name": "ipython",
    "version": 3
   },
   "file_extension": ".py",
   "mimetype": "text/x-python",
   "name": "python",
   "nbconvert_exporter": "python",
   "pygments_lexer": "ipython3",
   "version": "3.11.5"
  }
 },
 "nbformat": 4,
 "nbformat_minor": 2
}
